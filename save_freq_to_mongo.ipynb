{
 "cells": [
  {
   "cell_type": "code",
   "execution_count": null,
   "metadata": {},
   "outputs": [],
   "source": [
    "import json\n",
    "from datetime import datetime\n",
    "from mongodb import insert_many_documents\n",
    "\n",
    "# Read the JSON file\n",
    "with open('count_ner_result.json', 'r', encoding='utf-8') as f:\n",
    "    data = json.load(f)\n",
    "\n",
    "# Convert string timestamps to datetime objects\n",
    "for item in data:\n",
    "    if 'time' in item:\n",
    "        item['time'] = datetime.strptime(item['time'], '%Y-%m-%d')\n",
    "\n",
    "# Sort data by time in ascending order\n",
    "sorted_data = sorted(data, key=lambda x: x['time'])\n",
    "\n",
    "# Insert sorted data into MongoDB using mongodb.py function\n",
    "insert_many_documents('frequency', sorted_data)\n"
   ]
  }
 ],
 "metadata": {
  "language_info": {
   "name": "python"
  }
 },
 "nbformat": 4,
 "nbformat_minor": 2
}
